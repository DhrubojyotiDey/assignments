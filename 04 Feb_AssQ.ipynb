{
 "cells": [
  {
   "cell_type": "markdown",
   "id": "b838ca1f-87ad-4bcb-81a3-0ba2386f9abf",
   "metadata": {},
   "source": [
    "Python program that sorts the given list of tuples based on the integer value using a lambda function:"
   ]
  },
  {
   "cell_type": "code",
   "execution_count": null,
   "id": "360cb354-b465-4b23-ada4-17948e3721dd",
   "metadata": {},
   "outputs": [],
   "source": [
    "# Given list of tuples\n",
    "players = [('Sachin Tendulkar', 34357), ('Ricky Ponting', 27483), ('Jack Kallis', 25534), ('Virat Kohli', 24936)]\n",
    "\n",
    "# Sort the list of tuples based on the second element of each tuple\n",
    "players.sort(key = lambda x: x[1])\n",
    "\n",
    "# Print the sorted list\n",
    "print(players)\n"
   ]
  },
  {
   "cell_type": "markdown",
   "id": "6d9aedb9-27c5-426c-acd5-6d1b35e12ce6",
   "metadata": {},
   "source": [
    "running this program, it will sort the list of tuples in ascending order based on the integer value (the second element in each tuple). If you want to sort the list in descending order, you can modify the sort line as follows:"
   ]
  },
  {
   "cell_type": "code",
   "execution_count": null,
   "id": "17f339ff-b011-4380-9673-7c42247f4316",
   "metadata": {},
   "outputs": [],
   "source": [
    "players.sort(key = lambda x: x[1], reverse=True)"
   ]
  },
  {
   "cell_type": "code",
   "execution_count": null,
   "id": "e2641a0a-5b7d-4e29-adee-11e35e91f4af",
   "metadata": {},
   "outputs": [],
   "source": [
    "# Given list of integers\n",
    "numbers = [1, 2, 3, 4, 5, 6, 7, 8, 9, 10]\n",
    "\n",
    "# Use map function to apply lambda function (which squares the number) to each element in the list\n",
    "squares = list(map(lambda x: x**2, numbers))\n",
    "\n",
    "# Print the list of squares\n",
    "print(squares)\n",
    "'''\n",
    "this will print the squares of all the numbers in the given list.\n",
    "The map function applies the lambda function to each element in the list.\n",
    "The lambda function takes an argument x and returns x**2, which is the square of x.'''"
   ]
  },
  {
   "cell_type": "code",
   "execution_count": null,
   "id": "4b4604ef-ed57-4995-b1eb-ccd3d717c3aa",
   "metadata": {},
   "outputs": [],
   "source": [
    "# Given list of integers\n",
    "numbers = [1, 2, 3, 4, 5, 6, 7, 8, 9, 10]\n",
    "\n",
    "# Use map function to apply lambda function (which converts the number to string) to each element in the list\n",
    "strings = tuple(map(lambda x: str(x), numbers))\n",
    "\n",
    "# Print the tuple of strings\n",
    "print(strings)\n",
    "'''When you run this program, it will print a tuple of strings.\n",
    "The map function applies the lambda function to each element in the list.\n",
    "The lambda function takes an argument x and returns str(x), which is the string representation of x'''"
   ]
  },
  {
   "cell_type": "code",
   "execution_count": null,
   "id": "bd544093-19fd-486a-aa57-611777977fe2",
   "metadata": {},
   "outputs": [],
   "source": [
    "from functools import reduce\n",
    "\n",
    "# List of numbers from 1 to 25\n",
    "numbers = list(range(1, 26))\n",
    "\n",
    "# Use reduce function to compute the product of the numbers in the list\n",
    "product = reduce(lambda x, y: x * y, numbers)\n",
    "\n",
    "# Print the product\n",
    "print(product)\n",
    "'''it will print the product of all the numbers in the list.\n",
    "The reduce function applies a binary function (in this case,\n",
    "the lambda function that multiplies two arguments) to all elements in\n",
    "the list in a cumulative way. So, it computes the product of all numbers in the list'''"
   ]
  },
  {
   "cell_type": "code",
   "execution_count": null,
   "id": "f2cfe0dd-164d-46d0-8c5f-3386252f4b76",
   "metadata": {},
   "outputs": [],
   "source": [
    "# Given list of numbers\n",
    "numbers = [2, 3, 6, 9, 27, 60, 90, 120, 55, 46]\n",
    "\n",
    "# Use filter function to get numbers divisible by both 2 and 3\n",
    "filtered_numbers = list(filter(lambda x: x % 2 == 0 and x % 3 == 0, numbers))\n",
    "\n",
    "# Print the filtered numbers\n",
    "print(filtered_numbers)\n",
    "\n",
    "''' it will print a list of numbers from the given list that are divisible \n",
    "by both 2 and 3. The filter function applies the lambda function to each \n",
    "element in the list. The lambda function takes an argument x and returns \n",
    "True if x is divisible by both 2 and 3, and False otherwise.'''"
   ]
  },
  {
   "cell_type": "code",
   "execution_count": null,
   "id": "eee700b4-481f-4c4e-b626-87c04463c6a1",
   "metadata": {},
   "outputs": [],
   "source": [
    "# Given list of strings\n",
    "strings = ['python', 'php', 'aba', 'radar', 'level']\n",
    "\n",
    "# Use filter function to get palindromes\n",
    "palindromes = list(filter(lambda x: x == x[::-1], strings))\n",
    "\n",
    "# Print the palindromes\n",
    "print(palindromes)\n",
    "\n",
    "'''it will print a list of strings from the given list that are palindromes. \n",
    "The filter function applies the lambda function to each element in the list. \n",
    "The lambda function takes an argument x and returns True if x is the same as \n",
    "its reverse (i.e., x is a palindrome), and False otherwise.'''"
   ]
  }
 ],
 "metadata": {
  "kernelspec": {
   "display_name": "Python 3 (ipykernel)",
   "language": "python",
   "name": "python3"
  },
  "language_info": {
   "codemirror_mode": {
    "name": "ipython",
    "version": 3
   },
   "file_extension": ".py",
   "mimetype": "text/x-python",
   "name": "python",
   "nbconvert_exporter": "python",
   "pygments_lexer": "ipython3",
   "version": "3.10.8"
  }
 },
 "nbformat": 4,
 "nbformat_minor": 5
}
