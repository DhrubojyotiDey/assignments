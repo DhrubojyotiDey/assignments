{
 "cells": [
  {
   "cell_type": "markdown",
   "id": "b0bcce21-4216-4ce3-adf5-bc69605a3088",
   "metadata": {},
   "source": [
    "the keyword def is used to create a function. Here’s a function that returns a list of odd numbers in the range of 1 to 25:"
   ]
  },
  {
   "cell_type": "code",
   "execution_count": null,
   "id": "b2050241-2ef7-49e1-b22a-868288ed1d56",
   "metadata": {},
   "outputs": [],
   "source": [
    "def odd_numbers():\n",
    "    return [i for i in range(1, 26) if i % 2 != 0]\n",
    "\n",
    "print(odd_numbers())"
   ]
  },
  {
   "cell_type": "markdown",
   "id": "c099da8c-1416-403e-a645-0902ee268c01",
   "metadata": {},
   "source": [
    "you can use a lambda function to achieve the same result. Here’s how to do it:"
   ]
  },
  {
   "cell_type": "code",
   "execution_count": null,
   "id": "bea8e506-4b15-41fa-8fbc-b4ca99b183dd",
   "metadata": {},
   "outputs": [],
   "source": [
    "odd_numbers = list(filter(lambda x: x % 2 != 0, range(1, 26)))\n",
    "print(odd_numbers)"
   ]
  },
  {
   "cell_type": "markdown",
   "id": "fd326f83-b5ca-46f4-a49b-8ec2f6d025d9",
   "metadata": {},
   "source": [
    "*args is used to pass a non-keyworded, variable-length argument list to your function. The syntax is to use the symbol * before the parameter name when defining the function.\n",
    "**kwargs allows you to pass keyworded variable-length of arguments to a function. You should use **kwargs if you want to handle named arguments in a function. Below are examples of each:"
   ]
  },
  {
   "cell_type": "code",
   "execution_count": null,
   "id": "b413b3c9-4008-4126-91c3-147bc7b985e4",
   "metadata": {},
   "outputs": [],
   "source": [
    "# Using *args\n",
    "def test_var_args(*args):\n",
    "    for arg in args:\n",
    "        print(\"arg:\", arg)\n",
    "\n",
    "test_var_args(1, \"two\", 3)\n",
    "\n",
    "# Using **kwargs\n",
    "def test_var_kwargs(**kwargs):\n",
    "    for key, value in kwargs.items():\n",
    "        print(\"key:\", key, \"value:\", value)\n",
    "\n",
    "test_var_kwargs(first_name=\"Bhai\", last_name=\"Saab\")\n"
   ]
  },
  {
   "cell_type": "markdown",
   "id": "765f471c-b803-49aa-a512-7a4e03ec5ce1",
   "metadata": {},
   "source": [
    "an iterator is an object that can be iterated (looped) upon. An object which will return data, one element at a time. Python’s iterator protocol requires __iter__() to return a special iterator object that implements a __next__() method to carry out the actual iteration. Below is an example: "
   ]
  },
  {
   "cell_type": "code",
   "execution_count": null,
   "id": "a12b77b6-f787-4f88-80a7-e32803ad8376",
   "metadata": {},
   "outputs": [],
   "source": [
    "# Given list\n",
    "my_list = [2, 4, 6, 8, 10, 12, 14, 16, 18, 20]\n",
    "\n",
    "# Create an iterator object from the list\n",
    "my_iterator = iter(my_list)\n",
    "\n",
    "# Use a for loop to print the first five elements\n",
    "for i in range(5):\n",
    "    print(next(my_iterator))\n"
   ]
  },
  {
   "cell_type": "markdown",
   "id": "9a27fc7a-ecda-45c3-b8fa-54fef767d114",
   "metadata": {},
   "source": [
    "generator function is a special kind of function that returns an iterator object which we can iterate over (one value at a time). It is defined like a normal function, but whenever it needs to generate a value, it does so with the yield keyword rather than return. If the body of a def contains yield, the function automatically becomes a generator function."
   ]
  },
  {
   "cell_type": "code",
   "execution_count": null,
   "id": "0b019dd9-0c4c-4624-bd5f-637c253680d2",
   "metadata": {},
   "outputs": [],
   "source": [
    "def generate_odds(n):\n",
    "    for i in range(n):\n",
    "        if i % 2 != 0:\n",
    "            yield i\n",
    "\n",
    "# Create a generator\n",
    "odd_numbers = generate_odds(10)\n",
    "\n",
    "# Use the generator\n",
    "for number in odd_numbers:\n",
    "    print(number)\n"
   ]
  },
  {
   "cell_type": "code",
   "execution_count": 1,
   "id": "7dc7934c-4b9c-457a-ac36-74d993038b7c",
   "metadata": {},
   "outputs": [
    {
     "name": "stdout",
     "output_type": "stream",
     "text": [
      "2\n",
      "3\n",
      "5\n",
      "7\n",
      "11\n",
      "13\n",
      "17\n",
      "19\n",
      "23\n",
      "29\n",
      "31\n",
      "37\n",
      "41\n",
      "43\n",
      "47\n",
      "53\n",
      "59\n",
      "61\n",
      "67\n",
      "71\n"
     ]
    }
   ],
   "source": [
    "def is_prime(n):\n",
    "    if n < 2:\n",
    "        return False\n",
    "    for i in range(2, int(n**0.5) + 1):\n",
    "        if n % i == 0:\n",
    "            return False\n",
    "    return True\n",
    "\n",
    "def generate_primes(n):\n",
    "    num = 2\n",
    "    while num < n:\n",
    "        if is_prime(num):\n",
    "            yield num\n",
    "        num += 1\n",
    "\n",
    "# Create a generator\n",
    "prime_numbers = generate_primes(1000)\n",
    "\n",
    "# Use the next() method to print the first 20 prime numbers\n",
    "for _ in range(20):\n",
    "    print(next(prime_numbers))\n"
   ]
  }
 ],
 "metadata": {
  "kernelspec": {
   "display_name": "Python 3 (ipykernel)",
   "language": "python",
   "name": "python3"
  },
  "language_info": {
   "codemirror_mode": {
    "name": "ipython",
    "version": 3
   },
   "file_extension": ".py",
   "mimetype": "text/x-python",
   "name": "python",
   "nbconvert_exporter": "python",
   "pygments_lexer": "ipython3",
   "version": "3.10.8"
  }
 },
 "nbformat": 4,
 "nbformat_minor": 5
}
