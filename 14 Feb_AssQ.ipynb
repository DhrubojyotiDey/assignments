{
 "cells": [
  {
   "cell_type": "code",
   "execution_count": null,
   "id": "f33432ec-1283-4543-8d0a-761d3f4afd56",
   "metadata": {},
   "outputs": [],
   "source": [
    "'''\n",
    "Multithreading in Python is a technique that enables multiple tasks to be executed simultaneously¹²⁴. It's a way to utilize the full\n",
    "potential of modern multi-core processors³. When a Python program is threaded, it can run multiple threads, each performing a specific\n",
    "task concurrently⁶. This is particularly useful for I/O-bound operations, such as reading and writing to files or making network requests³.\n",
    "\n",
    "The ability of a processor to execute multiple threads simultaneously is known as multithreading⁴. In a simple, single-core CPU, it\n",
    "is achieved using frequent switching between threads. This is termed context switching¹. Context switching takes place so frequently that all the threads appear to be running parallelly (this is termed multitasking)¹.\n",
    "\n",
    "The Python standard library provides the `threading` module which constructs higher-level threading interfaces on top of the lower\n",
    "level `_thread` module⁵. The `threading` module encapsulates threads, providing a clean interface to work with them⁶.\n",
    "It allows you to create and manage new threads of execution in Python⁷.\n",
    "'''"
   ]
  },
  {
   "cell_type": "code",
   "execution_count": null,
   "id": "86eced24-9a02-4e85-b9a0-d84bd953eb49",
   "metadata": {},
   "outputs": [],
   "source": [
    "'''\n",
    "The `threading` module in Python is used for working with threads¹. It provides a way to create and manage threads in Python, allowing \n",
    "for concurrent execution of code¹. This can be particularly useful for I/O-bound tasks, where waiting for input/output operations can\n",
    "lead to idle CPU time¹.\n",
    "\n",
    "Here are the functions you asked about:\n",
    "\n",
    "1. `activeCount()`: This function returns the number of `Thread` objects currently alive¹. The returned count is equal to the length\n",
    "of the list returned by `enumerate()`¹. This can be useful when you need to know how many threads are currently running in your program¹.\n",
    "\n",
    "2. `currentThread()`: This function returns the current `Thread` object, corresponding to the caller's thread of control¹. If the \n",
    "caller's thread of control was not created through the threading module, a dummy thread object with limited functionality is returned¹. This can be useful when you need to get a reference to the current thread⁵.\n",
    "\n",
    "3. `enumerate()`: This function returns a list of all `Thread` objects that are currently active¹. The list includes daemonic\n",
    "threads, dummy thread objects created by `currentThread()`, and the main thread⁷. It excludes terminated threads and threads that \n",
    "have not yet been started¹. This can be useful when you need to know which threads are currently active in your program⁷.\n",
    "'''"
   ]
  },
  {
   "cell_type": "code",
   "execution_count": null,
   "id": "0a8dce4f-d447-4e62-a589-b482e62cf022",
   "metadata": {},
   "outputs": [],
   "source": [
    "'''\n",
    "Sure, here are the explanations for the functions you asked about in the context of Python's `threading` module:\n",
    "\n",
    "1. `run()`: This method represents the thread's activity⁴. It is used to define the task that a thread is supposed to execute⁴.\n",
    "You override this method in your subclass¹. However, this method doesn't need to be called directly. It's automatically called by `start()`⁴.\n",
    "\n",
    "2. `start()`: This method starts the thread's activity⁵³. It must be called at most once per thread object¹. It arranges for the \n",
    "object's `run()` method to be invoked in a separate thread of control¹⁵.\n",
    "\n",
    "3. `join()`: This method makes the calling thread wait until the thread (on which it's called) terminates¹²¹¹. This blocks the calling\n",
    "thread until the thread whose `join()` method is called is terminated¹². This means that it blocks the execution of the calling thread until the called thread finishes its execution or until an optional timeout occurs¹².\n",
    "\n",
    "4. `isAlive()`: This method checks whether the thread is still running¹⁵¹⁷. It returns `True` if the thread is alive \n",
    "(still running) and `False` otherwise¹⁵¹⁷. This method will return `True` from when the `run()` method starts until just after it finishes.\n",
    "\n",
    "These methods are part of Python's `threading` module and are used to control and manage threads in Python.\n",
    "'''"
   ]
  },
  {
   "cell_type": "code",
   "execution_count": null,
   "id": "60ff2e95-1a2b-4ce9-944e-d2e0b90d60d0",
   "metadata": {},
   "outputs": [],
   "source": [
    "import threading\n",
    "\n",
    "# Function to print squares\n",
    "def print_squares():\n",
    "    for i in range(1, 6):\n",
    "        print(f'Square of {i} is {i**2}')\n",
    "\n",
    "# Function to print cubes\n",
    "def print_cubes():\n",
    "    for i in range(1, 6):\n",
    "        print(f'Cube of {i} is {i**3}')\n",
    "\n",
    "# Creating threads\n",
    "t1 = threading.Thread(target=print_squares)\n",
    "t2 = threading.Thread(target=print_cubes)\n",
    "\n",
    "# Starting threads\n",
    "t1.start()\n",
    "t2.start()\n",
    "\n",
    "# Wait until both threads finish\n",
    "t1.join()\n",
    "t2.join()\n",
    "\n",
    "'''\n",
    "In this program, we first import the threading module. We then define two functions: print_squares and print_cubes, which print the squares \n",
    "and cubes of numbers from 1 to 5, respectively. We create two threads t1 and t2 that run these functions. We start the threads with start()\n",
    "and then wait for both threads to finish with join(). The join() method ensures that the main program waits until both threads have finished\n",
    "their tasks before it continues.\n",
    "'''"
   ]
  },
  {
   "cell_type": "code",
   "execution_count": null,
   "id": "e1625176-25e3-449e-8060-6e7a21545504",
   "metadata": {},
   "outputs": [],
   "source": [
    "'''\n",
    "**Advantages**¹²³⁴⁵:\n",
    "1. **Effective Utilization of Resources**: Multithreading allows for effective utilization of system resources as threads execute tasks\n",
    "in parallel¹⁵.\n",
    "2. **Responsiveness**: Multithreading can enhance responsiveness, especially for I/O-bound tasks or operations involving waiting³.\n",
    "3. **Performance Improvement**: Multithreading can improve performance by enabling parallel execution of tasks³. This is particularly\n",
    "beneficial on multi-processor machines⁴.\n",
    "4. **Doesn't Block the User**: Threads are independent of each other, so the user interface remains responsive even if a part of the\n",
    "application is busy⁴.\n",
    "5. **Resource Sharing**: Threads within the same process can share resources, making it more economical⁵.\n",
    "\n",
    "**Disadvantages**⁶⁷⁵:\n",
    "1. **Increased Complexity**: Multithreading increases the complexity of the program, making it more difficult to debug⁶⁵.\n",
    "2. **Synchronization Issues**: It's necessary to maintain synchronization while sharing resources among multiple threads, which can be\n",
    "challenging⁶.\n",
    "3. **Potential Deadlocks**: Multithreading raises the possibility of potential deadlocks, where two or more threads are unable to\n",
    "proceed because each is waiting for the other to release a resource⁷.\n",
    "4. **Starvation**: A thread may not get regular access to shared resources, causing it to fail to resume its work⁷.\n",
    "5. **Unpredictable Results**: Due to the concurrent execution of threads, the outcome might be unpredictable⁵.\n",
    "'''"
   ]
  },
  {
   "cell_type": "code",
   "execution_count": null,
   "id": "acd427b3-6d89-4a27-a434-5f5624c2ad4a",
   "metadata": {},
   "outputs": [],
   "source": [
    "'''\n",
    "Sure, let's discuss these two concepts:\n",
    "\n",
    "1. **Deadlocks**¹²: A deadlock is a situation in a multithreaded environment where two or more threads are unable to proceed because each\n",
    "is waiting for the other to release a resource¹. For example, if thread A holds resource 1 and waits for resource 2, and thread B holds \n",
    "resource 2 and waits for resource 1, neither thread can proceed, creating a deadlock¹. Deadlocks are one of the most challenging issues\n",
    "to deal with in multithreaded programming².\n",
    "\n",
    "2. **Race Conditions**⁵⁷: A race condition occurs when two or more threads can access shared data and they try to change it at the same\n",
    "time⁵. As a result, the values of variables may be unpredictable as they can be dependent on the timings of context switches of the processes⁵. For example, if two threads are reading a value from a variable and updating it simultaneously, they might end up overwriting each other's work, leading to inconsistent results⁷.\n",
    "\n",
    "Both deadlocks and race conditions are critical issues in multithreaded programming and need to be managed carefully to ensure data \n",
    "integrity and application stability.\n",
    "'''"
   ]
  }
 ],
 "metadata": {
  "kernelspec": {
   "display_name": "Python 3 (ipykernel)",
   "language": "python",
   "name": "python3"
  },
  "language_info": {
   "codemirror_mode": {
    "name": "ipython",
    "version": 3
   },
   "file_extension": ".py",
   "mimetype": "text/x-python",
   "name": "python",
   "nbconvert_exporter": "python",
   "pygments_lexer": "ipython3",
   "version": "3.10.8"
  }
 },
 "nbformat": 4,
 "nbformat_minor": 5
}
